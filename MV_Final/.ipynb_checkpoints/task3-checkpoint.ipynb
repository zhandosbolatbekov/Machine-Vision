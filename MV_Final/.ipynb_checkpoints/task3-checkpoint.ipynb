{
 "cells": [
  {
   "cell_type": "code",
   "execution_count": 14,
   "metadata": {
    "collapsed": true
   },
   "outputs": [],
   "source": [
    "from __future__ import print_function\n",
    "import matplotlib.pyplot as plt\n",
    "import numpy as np\n",
    "import os\n",
    "import sys\n",
    "from scipy import ndimage\n",
    "from PIL import Image"
   ]
  },
  {
   "cell_type": "code",
   "execution_count": 30,
   "metadata": {},
   "outputs": [
    {
     "name": "stdout",
     "output_type": "stream",
     "text": [
      "data2//Arms//\n",
      "Full dataset tensor: (784, 28, 28)\n",
      "Mean: 0.112809\n",
      "Standard deviation: 0.143145\n",
      "data2//Figure_normal_legs//\n"
     ]
    },
    {
     "ename": "OSError",
     "evalue": "cannot identify image file 'data2//Figure_normal_legs//.DS_Store'",
     "output_type": "error",
     "traceback": [
      "\u001b[0;31m---------------------------------------------------------------------------\u001b[0m",
      "\u001b[0;31mOSError\u001b[0m                                   Traceback (most recent call last)",
      "\u001b[0;32m<ipython-input-30-996957832d26>\u001b[0m in \u001b[0;36m<module>\u001b[0;34m()\u001b[0m\n\u001b[1;32m     45\u001b[0m \u001b[0;32mfor\u001b[0m \u001b[0midx\u001b[0m \u001b[0;32min\u001b[0m \u001b[0mrange\u001b[0m\u001b[0;34m(\u001b[0m\u001b[0mlen\u001b[0m\u001b[0;34m(\u001b[0m\u001b[0mfolders\u001b[0m\u001b[0;34m)\u001b[0m\u001b[0;34m)\u001b[0m\u001b[0;34m:\u001b[0m\u001b[0;34m\u001b[0m\u001b[0m\n\u001b[1;32m     46\u001b[0m     \u001b[0mfolder\u001b[0m \u001b[0;34m=\u001b[0m \u001b[0mfolders\u001b[0m\u001b[0;34m[\u001b[0m\u001b[0midx\u001b[0m\u001b[0;34m]\u001b[0m\u001b[0;34m\u001b[0m\u001b[0m\n\u001b[0;32m---> 47\u001b[0;31m     \u001b[0mX_datasets\u001b[0m\u001b[0;34m.\u001b[0m\u001b[0mappend\u001b[0m\u001b[0;34m(\u001b[0m\u001b[0mload_letter\u001b[0m\u001b[0;34m(\u001b[0m\u001b[0mfolder\u001b[0m\u001b[0;34m,\u001b[0m \u001b[0;36m200\u001b[0m\u001b[0;34m)\u001b[0m\u001b[0;34m)\u001b[0m\u001b[0;34m\u001b[0m\u001b[0m\n\u001b[0m\u001b[1;32m     48\u001b[0m     \u001b[0mlabels\u001b[0m \u001b[0;34m=\u001b[0m \u001b[0mnp\u001b[0m\u001b[0;34m.\u001b[0m\u001b[0mzeros\u001b[0m\u001b[0;34m(\u001b[0m\u001b[0;34m(\u001b[0m\u001b[0mX_datasets\u001b[0m\u001b[0;34m[\u001b[0m\u001b[0;34m-\u001b[0m\u001b[0;36m1\u001b[0m\u001b[0;34m]\u001b[0m\u001b[0;34m.\u001b[0m\u001b[0mshape\u001b[0m\u001b[0;34m[\u001b[0m\u001b[0;36m0\u001b[0m\u001b[0;34m]\u001b[0m\u001b[0;34m,\u001b[0m\u001b[0mlen\u001b[0m\u001b[0;34m(\u001b[0m\u001b[0mfolders\u001b[0m\u001b[0;34m)\u001b[0m\u001b[0;34m)\u001b[0m\u001b[0;34m)\u001b[0m\u001b[0;34m\u001b[0m\u001b[0m\n\u001b[1;32m     49\u001b[0m     \u001b[0mlabels\u001b[0m\u001b[0;34m[\u001b[0m\u001b[0;34m:\u001b[0m\u001b[0;34m,\u001b[0m\u001b[0midx\u001b[0m\u001b[0;34m]\u001b[0m \u001b[0;34m=\u001b[0m \u001b[0;36m1\u001b[0m\u001b[0;34m\u001b[0m\u001b[0m\n",
      "\u001b[0;32m<ipython-input-30-996957832d26>\u001b[0m in \u001b[0;36mload_letter\u001b[0;34m(folder, min_num_images)\u001b[0m\n\u001b[1;32m     19\u001b[0m         \u001b[0mimage_file\u001b[0m \u001b[0;34m=\u001b[0m \u001b[0mos\u001b[0m\u001b[0;34m.\u001b[0m\u001b[0mpath\u001b[0m\u001b[0;34m.\u001b[0m\u001b[0mjoin\u001b[0m\u001b[0;34m(\u001b[0m\u001b[0mfolder\u001b[0m\u001b[0;34m,\u001b[0m \u001b[0mimage\u001b[0m\u001b[0;34m)\u001b[0m\u001b[0;34m\u001b[0m\u001b[0m\n\u001b[1;32m     20\u001b[0m         \u001b[0;32mif\u001b[0m \u001b[0;32mnot\u001b[0m \u001b[0mimage_file\u001b[0m\u001b[0;34m.\u001b[0m\u001b[0mstartswith\u001b[0m\u001b[0;34m(\u001b[0m\u001b[0;34m'.'\u001b[0m\u001b[0;34m)\u001b[0m \u001b[0;32mand\u001b[0m \u001b[0mimage_file\u001b[0m \u001b[0;34m!=\u001b[0m \u001b[0;34m'Thumbs.db'\u001b[0m\u001b[0;34m:\u001b[0m\u001b[0;34m\u001b[0m\u001b[0m\n\u001b[0;32m---> 21\u001b[0;31m             \u001b[0mimg\u001b[0m \u001b[0;34m=\u001b[0m \u001b[0mImage\u001b[0m\u001b[0;34m.\u001b[0m\u001b[0mopen\u001b[0m\u001b[0;34m(\u001b[0m\u001b[0mimage_file\u001b[0m\u001b[0;34m)\u001b[0m\u001b[0;34m\u001b[0m\u001b[0m\n\u001b[0m\u001b[1;32m     22\u001b[0m             \u001b[0mnew\u001b[0m \u001b[0;34m=\u001b[0m \u001b[0mimg\u001b[0m\u001b[0;34m.\u001b[0m\u001b[0mresize\u001b[0m\u001b[0;34m(\u001b[0m\u001b[0;34m(\u001b[0m\u001b[0;36m28\u001b[0m\u001b[0;34m,\u001b[0m \u001b[0;36m28\u001b[0m\u001b[0;34m)\u001b[0m\u001b[0;34m,\u001b[0m \u001b[0mImage\u001b[0m\u001b[0;34m.\u001b[0m\u001b[0mANTIALIAS\u001b[0m\u001b[0;34m)\u001b[0m\u001b[0;34m\u001b[0m\u001b[0m\n\u001b[1;32m     23\u001b[0m             \u001b[0;32mtry\u001b[0m\u001b[0;34m:\u001b[0m\u001b[0;34m\u001b[0m\u001b[0m\n",
      "\u001b[0;32m/Library/Frameworks/Python.framework/Versions/3.6/lib/python3.6/site-packages/PIL/Image.py\u001b[0m in \u001b[0;36mopen\u001b[0;34m(fp, mode)\u001b[0m\n\u001b[1;32m   2517\u001b[0m         \u001b[0mfp\u001b[0m\u001b[0;34m.\u001b[0m\u001b[0mclose\u001b[0m\u001b[0;34m(\u001b[0m\u001b[0;34m)\u001b[0m\u001b[0;34m\u001b[0m\u001b[0m\n\u001b[1;32m   2518\u001b[0m     raise IOError(\"cannot identify image file %r\"\n\u001b[0;32m-> 2519\u001b[0;31m                   % (filename if filename else fp))\n\u001b[0m\u001b[1;32m   2520\u001b[0m \u001b[0;34m\u001b[0m\u001b[0m\n\u001b[1;32m   2521\u001b[0m \u001b[0;31m#\u001b[0m\u001b[0;34m\u001b[0m\u001b[0;34m\u001b[0m\u001b[0m\n",
      "\u001b[0;31mOSError\u001b[0m: cannot identify image file 'data2//Figure_normal_legs//.DS_Store'"
     ]
    }
   ],
   "source": [
    "\n",
    "image_size = 28  # Pixel width and height.\n",
    "pixel_depth = 255.0  # Number of levels per pixel.\n",
    "folders = [ \n",
    "    r'data2//Arms//',\n",
    "    r'data2//Figure_normal_legs//',\n",
    "    r'data2//FigureWheels//',\n",
    "    r'data2//Head//'\n",
    "] \n",
    "\n",
    "def load_letter(folder, min_num_images):\n",
    "    \"\"\"Load the data for a single letter label.\"\"\"\n",
    "    image_files = os.listdir(folder)\n",
    "    dataset = np.ndarray(shape=(len(image_files), image_size, image_size),\n",
    "                         dtype=np.float32)\n",
    "    print(folder)\n",
    "    num_images = 0\n",
    "    for image in image_files:\n",
    "        image_file = os.path.join(folder, image)\n",
    "        if not image.startswith('.') and image != 'Thumbs.db':\n",
    "            img = Image.open(image_file)\n",
    "            new = img.resize((28, 28), Image.ANTIALIAS)\n",
    "            try:\n",
    "                image_data = (np.array(new).astype(float) - pixel_depth / 2) / pixel_depth\n",
    "                if image_data.shape != (image_size, image_size):\n",
    "                    raise Exception('Unexpected image shape: %s' % str(image_data.shape))\n",
    "                dataset[num_images, :, :] = image_data\n",
    "                num_images = num_images + 1\n",
    "            except IOError as e:\n",
    "                print('Could not read:', image_file, ':', e, '- it\\'s ok, skipping.')\n",
    "    \n",
    "    dataset = dataset[0:num_images, :, :]\n",
    "    if num_images < min_num_images:\n",
    "        raise Exception('Many fewer images than expected: %d < %d' %\n",
    "                    (num_images, min_num_images))\n",
    "    \n",
    "    print('Full dataset tensor:', dataset.shape)\n",
    "    print('Mean:', np.mean(dataset))\n",
    "    print('Standard deviation:', np.std(dataset))\n",
    "    return dataset\n",
    "\n",
    "\n",
    "X_datasets = list()\n",
    "Y_datasets = list()\n",
    "for idx in range(len(folders)):\n",
    "    folder = folders[idx] \n",
    "    X_datasets.append(load_letter(folder, 200))\n",
    "    labels = np.zeros((X_datasets[-1].shape[0],len(folders)))\n",
    "    labels[:,idx] = 1\n",
    "    Y_datasets.append(labels)\n",
    "    "
   ]
  },
  {
   "cell_type": "code",
   "execution_count": null,
   "metadata": {
    "scrolled": true
   },
   "outputs": [],
   "source": [
    "from sklearn.model_selection import train_test_split\n",
    "    \n",
    "X_datasets2 = np.concatenate(X_datasets)\n",
    "Y_datasets2 = np.concatenate(Y_datasets)\n",
    "print(\"Total samples number:\",X_datasets2.shape)\n",
    "X_trains,X_tests,Y_trains,Y_tests = train_test_split(X_datasets2,Y_datasets2,test_size=0.25)\n",
    "print(\"Samples for tests:\",Y_tests.shape[0])\n",
    "print(\"Samples for trains:\",Y_trains.shape[0])\n",
    "plt.imshow(X_tests[0],cmap='gray')"
   ]
  },
  {
   "cell_type": "code",
   "execution_count": null,
   "metadata": {},
   "outputs": [],
   "source": [
    "# Create first network with Keras\n",
    "from keras.models import Sequential\n",
    "from keras.layers import Dense,Activation,Reshape\n",
    "from keras.callbacks import EarlyStopping,ModelCheckpoint\n",
    "import numpy\n",
    "\n",
    "callbacks = [\n",
    "    EarlyStopping(monitor='val_loss', min_delta=0.00001, verbose=1),\n",
    "    # EarlyStopping(monitor='val_loss', patience=2, verbose=0),\n",
    "    ModelCheckpoint(filepath='./weights.net', verbose=1, save_best_only=True),\n",
    "    \n",
    "]\n",
    "\n",
    "# fix random seed for reproducibility\n",
    "seed = 7\n",
    "numpy.random.seed(seed)\n",
    "\n",
    "input_dim = X_trains[0].shape[0]*X_trains[0].shape[1]\n",
    "print((X_trains[0].shape[0],X_trains[0].shape[1]))\n",
    "print(Y_trains[0].shape[0])\n",
    "# create model\n",
    "model = Sequential()\n",
    "model.add(Reshape((input_dim,), input_shape=(X_trains[0].shape[0],X_trains[0].shape[1])))\n",
    "model.add(Dense(input_dim, input_shape = (input_dim,), init='uniform', activation='relu'))\n",
    "model.add(Dense(int(input_dim/2), init='uniform', activation='relu'))\n",
    "model.add(Dense(int(input_dim/4), init='uniform', activation='relu'))\n",
    "model.add(Dense(int(input_dim/8), init='uniform', activation='relu'))\n",
    "model.add(Dense(int(input_dim/16), init='uniform', activation='relu'))\n",
    "model.add(Dense(Y_trains[0].shape[0],init='uniform', name=\"output\"))\n",
    "model.add(Activation('sigmoid', name=\"sigmoid\"))\n",
    "model.summary()\n",
    "\n",
    "# Compile model\n",
    "model.compile(loss='binary_crossentropy', optimizer='adam', metrics=['accuracy'])\n",
    "# Fit the model\n",
    "model.fit(X_trains, \n",
    "          Y_trains, \n",
    "          epochs=50, \n",
    "          batch_size=10, \n",
    "          verbose=2, \n",
    "          validation_split=0.25,\n",
    "          callbacks=callbacks)\n",
    "# calculate predictions\n",
    "results = model.evaluate(X_tests, Y_tests, batch_size=32, verbose=1, sample_weight=None)\n",
    "# round predictions\n",
    "print(results)"
   ]
  },
  {
   "cell_type": "code",
   "execution_count": null,
   "metadata": {
    "collapsed": true
   },
   "outputs": [],
   "source": [
    "clazzez = ['Arms','Figure_normal_legs','FigureWheels','Head']\n",
    "\n",
    "results = model.predict(X_tests)\n",
    "errors = list()\n",
    "for idx in range(len(results)):\n",
    "    res = results[idx]\n",
    "    cla_pre = clazzez[np.argmax(res)]\n",
    "    cla_tar = clazzez[np.argmax(Y_tests[idx])]\n",
    "    if cla_pre!=cla_tar:\n",
    "#         print(cla_pre,cla_tar)\n",
    "        errors.append(idx)\n",
    "# print(errors)\n",
    "\n",
    "problems = 4\n",
    "fig, axes = plt.subplots(problems, figsize=(10,10))\n",
    "fig.tight_layout()\n",
    "for idx in range(problems):\n",
    "    err = errors[idx]\n",
    "    cla_pre = clazzez[np.argmax(results[err])]\n",
    "    cla_tar = clazzez[np.argmax(Y_tests[err])]    \n",
    "    \n",
    "    axes[idx].imshow(X_tests[err],cmap='gray')\n",
    "    axes[idx].set_title(\"cla_pre=%s cla_tar=%s \" % (cla_pre,cla_tar), fontsize=10)\n",
    "    axes[idx].set_xticks([]) \n",
    "    axes[idx].set_yticks([]) "
   ]
  },
  {
   "cell_type": "code",
   "execution_count": null,
   "metadata": {
    "collapsed": true
   },
   "outputs": [],
   "source": []
  }
 ],
 "metadata": {
  "kernelspec": {
   "display_name": "Python 3",
   "language": "python",
   "name": "python3"
  },
  "language_info": {
   "codemirror_mode": {
    "name": "ipython",
    "version": 3
   },
   "file_extension": ".py",
   "mimetype": "text/x-python",
   "name": "python",
   "nbconvert_exporter": "python",
   "pygments_lexer": "ipython3",
   "version": "3.6.2"
  }
 },
 "nbformat": 4,
 "nbformat_minor": 2
}
